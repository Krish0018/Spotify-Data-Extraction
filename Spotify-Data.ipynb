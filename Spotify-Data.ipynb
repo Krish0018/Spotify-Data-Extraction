{
 "cells": [
  {
   "cell_type": "code",
   "execution_count": 43,
   "id": "149084ca-948a-4cd0-88d4-20dd595ce67d",
   "metadata": {},
   "outputs": [
    {
     "name": "stdin",
     "output_type": "stream",
     "text": [
      "Enter the year to extract data for:  2023\n",
      "Enter the type of songs you are looking for (e.g., Spanish, Pop, Bollywood, Punjabi):  Punjabi\n"
     ]
    },
    {
     "name": "stderr",
     "output_type": "stream",
     "text": [
      "HTTP Error for GET to https://api.spotify.com/v1/search with Params: {'q': 'year:2023 Punjabi', 'limit': 50, 'offset': 1000, 'type': 'track', 'market': None} returned 400 due to Bad request.\n"
     ]
    },
    {
     "name": "stdout",
     "output_type": "stream",
     "text": [
      "Error: http status: 400, code:-1 - https://api.spotify.com/v1/search?q=year%3A2023+Punjabi&limit=50&offset=1000&type=track:\n",
      " Bad request., reason: None\n",
      "Data saved to Google Sheet.\n"
     ]
    }
   ],
   "source": [
    "import gspread\n",
    "from oauth2client.service_account import ServiceAccountCredentials\n",
    "import spotipy\n",
    "from spotipy.oauth2 import SpotifyClientCredentials\n",
    "import json\n",
    "\n",
    "# Load processed track IDs from a file\n",
    "try:\n",
    "    with open('processed_tracks.json', 'r') as file:\n",
    "        processed_tracks = json.load(file)\n",
    "except FileNotFoundError:\n",
    "    processed_tracks = []\n",
    "\n",
    "# Set up Spotify credentials\n",
    "client_id = 'your_client_id'\n",
    "client_secret = 'your_client_secret'\n",
    "client_credentials_manager = SpotifyClientCredentials(client_id=client_id, client_secret=client_secret)\n",
    "sp = spotipy.Spotify(client_credentials_manager=client_credentials_manager)\n",
    "\n",
    "# Set up Google Sheets credentials\n",
    "scope = ['https://spreadsheets.google.com/feeds', 'https://www.googleapis.com/auth/drive']\n",
    "credentials = ServiceAccountCredentials.from_json_keyfile_name('credentials.json', scope)\n",
    "client = gspread.authorize(credentials)\n",
    "sheet = client.open('Spotify').sheet1\n",
    "\n",
    "# Input the year to extract data for\n",
    "year = input(\"Enter the year to extract data for: \")\n",
    "\n",
    "# Input the type of songs (e.g., Spanish, pop, Hollywood, Punjabi)\n",
    "song_type = input(\"Enter the type of songs you are looking for (e.g., Spanish, Pop, Bollywood, Punjabi): \")\n",
    "\n",
    "\n",
    "# Search for tracks (limiting to 50 tracks per request)\n",
    "offset = 0\n",
    "limit = 50\n",
    "all_tracks = []\n",
    "\n",
    "try:\n",
    "    while True:\n",
    "        results = sp.search(q=f'year:{year} {song_type}', type='track', limit=limit, offset=offset)\n",
    "        tracks = results['tracks']['items']\n",
    "        if not tracks:\n",
    "            break\n",
    "        all_tracks.extend(tracks)\n",
    "        offset += limit\n",
    "except spotipy.SpotifyException as e:\n",
    "    print(\"Error:\", e)\n",
    "\n",
    "# Extract information for each track\n",
    "track_data = []\n",
    "for track in all_tracks:\n",
    "    if track['id'] not in processed_tracks:\n",
    "        track_name = track['name']\n",
    "        artists = \", \".join([artist['name'] for artist in track['artists']])\n",
    "        album_name = track['album']['name']\n",
    "        release_date = track['album']['release_date']\n",
    "        track_id = track['id']\n",
    "        # Add more fields as needed\n",
    "\n",
    "        track_data.append([track_name, artists, album_name, release_date, track_id])\n",
    "        processed_tracks.append(track_id)\n",
    "\n",
    "        # # Check if the track or artist name contains Bollywood or Hindi keywords\n",
    "        # if 'bollywood' in track_name.lower() or 'bollywood' in artists.lower() or 'bollywood' in album_name.lower():\n",
    "        #     track_data.append([track_name, artists, album_name, release_date, track_id])\n",
    "        #     processed_tracks.append(track_id)\n",
    "\n",
    "# Save data to Google Sheet\n",
    "sheet.insert_rows(track_data)\n",
    "\n",
    "# Save updated processed track IDs to file\n",
    "with open('processed_tracks.json', 'w') as file:\n",
    "    json.dump(processed_tracks, file)\n",
    "\n",
    "print(\"Data saved to Google Sheet.\")\n"
   ]
  },
  {
   "cell_type": "code",
   "execution_count": null,
   "id": "e3b93504-9262-420d-9c59-f24f816f5def",
   "metadata": {},
   "outputs": [],
   "source": []
  }
 ],
 "metadata": {
  "kernelspec": {
   "display_name": "Python 3 (ipykernel)",
   "language": "python",
   "name": "python3"
  },
  "language_info": {
   "codemirror_mode": {
    "name": "ipython",
    "version": 3
   },
   "file_extension": ".py",
   "mimetype": "text/x-python",
   "name": "python",
   "nbconvert_exporter": "python",
   "pygments_lexer": "ipython3",
   "version": "3.12.1"
  }
 },
 "nbformat": 4,
 "nbformat_minor": 5
}
